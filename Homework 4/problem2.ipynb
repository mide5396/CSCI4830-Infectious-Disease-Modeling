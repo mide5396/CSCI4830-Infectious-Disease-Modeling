{
 "cells": [
  {
   "cell_type": "code",
   "execution_count": 7,
   "id": "cc592edf-cc14-479b-8079-6024a48e56cf",
   "metadata": {},
   "outputs": [],
   "source": [
    "%matplotlib ipympl\n",
    "import matplotlib.pyplot as plt\n",
    "import numpy as np\n",
    "import pandas as pd"
   ]
  },
  {
   "cell_type": "code",
   "execution_count": 8,
   "id": "f5b402c8-b3a3-4e4b-8663-b14c217edad1",
   "metadata": {},
   "outputs": [
    {
     "name": "stdout",
     "output_type": "stream",
     "text": [
      "Prevalence: 0.4204545454545455\n"
     ]
    }
   ],
   "source": [
    "sensitivity = 0.90\n",
    "specificity = 0.98\n",
    "N = 100\n",
    "n_pos = 39\n",
    "pos_prob = n_pos / N\n",
    "theta = (pos_prob - (1-specificity)) / (sensitivity + specificity - 1)\n",
    "print(\"Prevalence:\", theta)\n",
    "\n"
   ]
  },
  {
   "cell_type": "code",
   "execution_count": 9,
   "id": "b3629ef0-1116-4e9c-af92-21bfb6733959",
   "metadata": {},
   "outputs": [
    {
     "name": "stdout",
     "output_type": "stream",
     "text": [
      "Confidence Interval: [0.4107793588652755, 0.43012973204381555]\n"
     ]
    }
   ],
   "source": [
    "sd = np.sqrt(theta*(1-theta) / N)\n",
    "lower_bound = theta - 1.96 * sd / np.sqrt(N)\n",
    "upper_bound = theta + 1.96 * sd / np.sqrt(N)\n",
    "confidence_interval = [lower_bound, upper_bound]\n",
    "print(\"Confidence Interval:\", confidence_interval)"
   ]
  },
  {
   "cell_type": "code",
   "execution_count": 10,
   "id": "0f3ff88a-d906-4709-8c9f-46d4a55ed71b",
   "metadata": {},
   "outputs": [
    {
     "name": "stdout",
     "output_type": "stream",
     "text": [
      "Prevalence: 0.38636363636363635\n",
      "Confidence Interval: [0.36727654583644, 0.4054507268908327]\n"
     ]
    }
   ],
   "source": [
    "sensitivity = 0.90\n",
    "specificity = 0.98\n",
    "N = 50\n",
    "n_pos = 18\n",
    "pos_prob = n_pos / N\n",
    "theta = (pos_prob - (1-specificity)) / (sensitivity + specificity - 1)\n",
    "print(\"Prevalence:\", theta)\n",
    "sd = np.sqrt(theta*(1-theta) / N)\n",
    "lower_bound = theta - 1.96 * sd / np.sqrt(N)\n",
    "upper_bound = theta + 1.96 * sd / np.sqrt(N)\n",
    "confidence_interval = [lower_bound, upper_bound]\n",
    "print(\"Confidence Interval:\", confidence_interval)\n"
   ]
  },
  {
   "cell_type": "code",
   "execution_count": 11,
   "id": "983cb2ed-0cda-4b0d-8530-1cb4d8f86a33",
   "metadata": {},
   "outputs": [
    {
     "name": "stdout",
     "output_type": "stream",
     "text": [
      "0.38\n",
      "Prevalence: 0.4090909090909091\n",
      "Confidence Interval: [0.40266647227280966, 0.41551534590900857]\n"
     ]
    }
   ],
   "source": [
    "sensitivity = 0.90\n",
    "specificity = 0.98\n",
    "N = 100 + 50\n",
    "n_pos = 39 + 18\n",
    "pos_prob = n_pos / N\n",
    "print(pos_prob)\n",
    "theta = (pos_prob - (1-specificity)) / (sensitivity + specificity - 1)\n",
    "print(\"Prevalence:\", theta)\n",
    "sd = np.sqrt(theta*(1-theta) / N)\n",
    "lower_bound = theta - 1.96 * sd / np.sqrt(N)\n",
    "upper_bound = theta + 1.96 * sd / np.sqrt(N)\n",
    "confidence_interval = [lower_bound, upper_bound]\n",
    "print(\"Confidence Interval:\", confidence_interval)\n"
   ]
  },
  {
   "cell_type": "code",
   "execution_count": null,
   "id": "34af1152-fdb4-40f5-8001-711cc6642509",
   "metadata": {},
   "outputs": [],
   "source": []
  }
 ],
 "metadata": {
  "kernelspec": {
   "display_name": "Python 3 (ipykernel)",
   "language": "python",
   "name": "python3"
  },
  "language_info": {
   "codemirror_mode": {
    "name": "ipython",
    "version": 3
   },
   "file_extension": ".py",
   "mimetype": "text/x-python",
   "name": "python",
   "nbconvert_exporter": "python",
   "pygments_lexer": "ipython3",
   "version": "3.10.8"
  }
 },
 "nbformat": 4,
 "nbformat_minor": 5
}
